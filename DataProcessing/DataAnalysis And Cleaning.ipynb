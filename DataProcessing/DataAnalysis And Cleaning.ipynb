{
 "cells": [
  {
   "cell_type": "code",
   "execution_count": 81,
   "metadata": {},
   "outputs": [],
   "source": [
    "import pandas as pd\n",
    "import os\n",
    "import re\n",
    "import numpy as np\n",
    "import math\n",
    "import geojson\n",
    "import matplotlib.pyplot as plt\n",
    "import math"
   ]
  },
  {
   "cell_type": "code",
   "execution_count": 82,
   "metadata": {},
   "outputs": [],
   "source": [
    "path = os.getcwd()\n",
    "path = path.split('CIS550_Group_Project')[0]"
   ]
  },
  {
   "cell_type": "markdown",
   "metadata": {},
   "source": [
    "# Listing Data"
   ]
  },
  {
   "cell_type": "markdown",
   "metadata": {},
   "source": [
    "### (1)Read in data"
   ]
  },
  {
   "cell_type": "code",
   "execution_count": 83,
   "metadata": {},
   "outputs": [],
   "source": [
    "l1 = pd.read_csv(path + 'data/listings.csv')"
   ]
  },
  {
   "cell_type": "code",
   "execution_count": 84,
   "metadata": {},
   "outputs": [
    {
     "data": {
      "text/plain": [
       "209"
      ]
     },
     "execution_count": 84,
     "metadata": {},
     "output_type": "execute_result"
    }
   ],
   "source": [
    "len(pd.unique(l1['neighbourhood']))"
   ]
  },
  {
   "cell_type": "markdown",
   "metadata": {},
   "source": [
    "### (2)Generate Summary Statistics"
   ]
  },
  {
   "cell_type": "code",
   "execution_count": 85,
   "metadata": {},
   "outputs": [],
   "source": [
    "#summaryStats = l1.describe()\n",
    "#summaryStats.to_csv('data/listing_summary_stats.csv')"
   ]
  },
  {
   "cell_type": "markdown",
   "metadata": {},
   "source": [
    "### (3)Subset Useful Columns"
   ]
  },
  {
   "cell_type": "code",
   "execution_count": 86,
   "metadata": {},
   "outputs": [],
   "source": [
    "useful_columns = ['id', 'listing_url', 'name', 'description',\n",
    "       'neighborhood_overview', 'picture_url', 'host_id', 'host_url',\n",
    "       'host_name', 'host_since', 'host_about',\n",
    "       'host_response_time', 'host_response_rate', 'host_acceptance_rate',\n",
    "       'host_is_superhost', 'host_picture_url',\n",
    "       'host_listings_count',\n",
    "       'neighbourhood_cleansed', 'neighbourhood_group_cleansed', 'latitude',\n",
    "       'longitude', 'property_type', 'room_type', 'accommodates', 'bathrooms',\n",
    "       'bathrooms_text', 'bedrooms', 'beds', 'price',\n",
    "       'minimum_nights', 'maximum_nights', \n",
    "       'availability_365', 'number_of_reviews',\n",
    "       'review_scores_rating', 'review_scores_accuracy',\n",
    "       'review_scores_cleanliness', 'review_scores_checkin',\n",
    "       'review_scores_communication', 'review_scores_location',\n",
    "       'review_scores_value', 'instant_bookable']\n",
    "l2 = l1[useful_columns]"
   ]
  },
  {
   "cell_type": "markdown",
   "metadata": {},
   "source": [
    "### (4)Convert bathroom_text column to bathrooms column(numeric)"
   ]
  },
  {
   "cell_type": "code",
   "execution_count": 87,
   "metadata": {},
   "outputs": [],
   "source": [
    "#l2['bathrooms'] = l2['bathrooms_text'].astype(str).apply(lambda x: x.split(' ')[0] if len(x.split(' ')) > 0 else None)"
   ]
  },
  {
   "cell_type": "code",
   "execution_count": 88,
   "metadata": {},
   "outputs": [
    {
     "name": "stderr",
     "output_type": "stream",
     "text": [
      "<ipython-input-88-11ae1bb7fdc9>:12: SettingWithCopyWarning: \n",
      "A value is trying to be set on a copy of a slice from a DataFrame.\n",
      "Try using .loc[row_indexer,col_indexer] = value instead\n",
      "\n",
      "See the caveats in the documentation: https://pandas.pydata.org/pandas-docs/stable/user_guide/indexing.html#returning-a-view-versus-a-copy\n",
      "  l2['bathrooms'] = l2['bathrooms_text'].apply(extract_bathroom)\n"
     ]
    }
   ],
   "source": [
    "def extract_bathroom(x):\n",
    "    blist = str(x).split(' ')\n",
    "    if len(blist) > 0:\n",
    "        try:\n",
    "            float(blist[0])\n",
    "            return float(blist[0])\n",
    "        except ValueError:\n",
    "            if 'half' in str(x).lower():\n",
    "                return 0.5\n",
    "    return None\n",
    "\n",
    "l2['bathrooms'] = l2['bathrooms_text'].apply(extract_bathroom)\n",
    "l2 = l2.drop(columns=['bathrooms_text'])"
   ]
  },
  {
   "cell_type": "markdown",
   "metadata": {},
   "source": [
    "### (5) Convert Price column to numeric"
   ]
  },
  {
   "cell_type": "code",
   "execution_count": 89,
   "metadata": {},
   "outputs": [],
   "source": [
    "l2['price'] = l2['price'].str.replace('$','').str.replace(\",\",'').astype(float)"
   ]
  },
  {
   "cell_type": "markdown",
   "metadata": {},
   "source": [
    "### (6)rename"
   ]
  },
  {
   "cell_type": "code",
   "execution_count": 90,
   "metadata": {},
   "outputs": [],
   "source": [
    "l2.rename(columns = {'neighbourhood_cleansed':'neighbourhood', \n",
    "                     'neighbourhood_group_cleansed':'neighbourhood_group',\n",
    "                     'id':'listing_id'}, \n",
    "          inplace = True)"
   ]
  },
  {
   "cell_type": "code",
   "execution_count": 91,
   "metadata": {},
   "outputs": [],
   "source": [
    "### Convert host_since to MySql default date format YYYY-mm-dd\n",
    "# l2['host_since'] = pd.to_datetime(l2['host_since'], infer_datetime_format=True).astype(str)"
   ]
  },
  {
   "cell_type": "markdown",
   "metadata": {},
   "source": [
    "### (7)Convert host_response_rate to numeric, remove %"
   ]
  },
  {
   "cell_type": "code",
   "execution_count": 92,
   "metadata": {},
   "outputs": [],
   "source": [
    "l2['host_response_rate'] = l2['host_response_rate'].str.replace('%','').astype(float)/100"
   ]
  },
  {
   "cell_type": "markdown",
   "metadata": {},
   "source": [
    "### (8)Convert host_acceptance_rate to numeric, remove %"
   ]
  },
  {
   "cell_type": "code",
   "execution_count": 93,
   "metadata": {},
   "outputs": [],
   "source": [
    "l2['host_acceptance_rate'] = l2['host_acceptance_rate'].str.replace('%','').astype(float)/100"
   ]
  },
  {
   "cell_type": "markdown",
   "metadata": {},
   "source": [
    "### (9) Demopose to take host information into host table"
   ]
  },
  {
   "cell_type": "code",
   "execution_count": 94,
   "metadata": {},
   "outputs": [
    {
     "data": {
      "text/plain": [
       "(36724, 10)"
      ]
     },
     "execution_count": 94,
     "metadata": {},
     "output_type": "execute_result"
    }
   ],
   "source": [
    "host_columns = ['host_id', 'host_url',\n",
    "       'host_name', 'host_since',\n",
    "       'host_response_time', 'host_response_rate', 'host_acceptance_rate',\n",
    "       'host_is_superhost', 'host_picture_url',\n",
    "       'host_listings_count']\n",
    "host = l2[host_columns]\n",
    "host.shape"
   ]
  },
  {
   "cell_type": "code",
   "execution_count": 95,
   "metadata": {},
   "outputs": [
    {
     "data": {
      "text/plain": [
       "(25690,)"
      ]
     },
     "execution_count": 95,
     "metadata": {},
     "output_type": "execute_result"
    }
   ],
   "source": [
    "# There are 25690 unique host_id\n",
    "host['host_id'].unique().shape"
   ]
  },
  {
   "cell_type": "code",
   "execution_count": 96,
   "metadata": {},
   "outputs": [
    {
     "name": "stderr",
     "output_type": "stream",
     "text": [
      "<ipython-input-96-b9474bdaa677>:2: SettingWithCopyWarning: \n",
      "A value is trying to be set on a copy of a slice from a DataFrame\n",
      "\n",
      "See the caveats in the documentation: https://pandas.pydata.org/pandas-docs/stable/user_guide/indexing.html#returning-a-view-versus-a-copy\n",
      "  host.drop_duplicates(inplace=True, keep=\"first\")\n"
     ]
    },
    {
     "data": {
      "text/plain": [
       "(25690, 10)"
      ]
     },
     "execution_count": 96,
     "metadata": {},
     "output_type": "execute_result"
    }
   ],
   "source": [
    "## after removing duplicates, there are 25690 records for host table\n",
    "host.drop_duplicates(inplace=True, keep=\"first\") \n",
    "host.shape"
   ]
  },
  {
   "cell_type": "code",
   "execution_count": 16,
   "metadata": {},
   "outputs": [],
   "source": [
    "#host.to_csv(path + 'data/host_cleaned.csv', index = False)"
   ]
  },
  {
   "cell_type": "markdown",
   "metadata": {},
   "source": [
    "### (10) save listing (remove host columns) into csv"
   ]
  },
  {
   "cell_type": "code",
   "execution_count": 97,
   "metadata": {},
   "outputs": [],
   "source": [
    "listing_removehost_columns = ['listing_id', 'listing_url', 'host_id','name', 'description', \n",
    "       'neighborhood_overview', 'picture_url', \n",
    "       'neighbourhood', 'neighbourhood_group', 'latitude',\n",
    "       'longitude', 'property_type', 'room_type', 'accommodates', 'bathrooms',\n",
    "       'bathrooms', 'bedrooms', 'beds', 'price',\n",
    "       'minimum_nights', 'maximum_nights', \n",
    "       'availability_365', 'number_of_reviews',\n",
    "       'review_scores_rating', 'review_scores_accuracy',\n",
    "       'review_scores_cleanliness', 'review_scores_checkin',\n",
    "       'review_scores_communication', 'review_scores_location',\n",
    "       'review_scores_value', 'instant_bookable']"
   ]
  },
  {
   "cell_type": "code",
   "execution_count": 98,
   "metadata": {},
   "outputs": [],
   "source": [
    "l3 = l2[listing_removehost_columns]"
   ]
  },
  {
   "cell_type": "code",
   "execution_count": 19,
   "metadata": {},
   "outputs": [],
   "source": [
    "#l3.to_csv(path + 'data/listing_removehost_cleaned.csv', index = False)"
   ]
  },
  {
   "cell_type": "markdown",
   "metadata": {},
   "source": [
    "# Review Data"
   ]
  },
  {
   "cell_type": "code",
   "execution_count": 99,
   "metadata": {},
   "outputs": [],
   "source": [
    "r1 = pd.read_csv(path + 'data/reviews.csv')"
   ]
  },
  {
   "cell_type": "code",
   "execution_count": 100,
   "metadata": {},
   "outputs": [],
   "source": [
    "def scan_non_digit(x):\n",
    "    match = re.findall(r\"\\D\",x)\n",
    "    if len(match) > 0:\n",
    "        return \"\"\n",
    "    else:\n",
    "        return x\n",
    "\n",
    "r1[\"listing_id\"] = r1[\"listing_id\"].astype(str).apply(scan_non_digit)\n",
    "r1[\"id\"] = r1[\"id\"].astype(int).astype(str).apply(scan_non_digit)"
   ]
  },
  {
   "cell_type": "code",
   "execution_count": 101,
   "metadata": {},
   "outputs": [
    {
     "data": {
      "text/html": [
       "<div>\n",
       "<style scoped>\n",
       "    .dataframe tbody tr th:only-of-type {\n",
       "        vertical-align: middle;\n",
       "    }\n",
       "\n",
       "    .dataframe tbody tr th {\n",
       "        vertical-align: top;\n",
       "    }\n",
       "\n",
       "    .dataframe thead th {\n",
       "        text-align: right;\n",
       "    }\n",
       "</style>\n",
       "<table border=\"1\" class=\"dataframe\">\n",
       "  <thead>\n",
       "    <tr style=\"text-align: right;\">\n",
       "      <th></th>\n",
       "      <th>listing_id</th>\n",
       "      <th>id</th>\n",
       "      <th>date</th>\n",
       "      <th>reviewer_id</th>\n",
       "      <th>comments</th>\n",
       "    </tr>\n",
       "  </thead>\n",
       "  <tbody>\n",
       "  </tbody>\n",
       "</table>\n",
       "</div>"
      ],
      "text/plain": [
       "Empty DataFrame\n",
       "Columns: [listing_id, id, date, reviewer_id, comments]\n",
       "Index: []"
      ]
     },
     "execution_count": 101,
     "metadata": {},
     "output_type": "execute_result"
    }
   ],
   "source": [
    "#check problematic id columns\n",
    "check = r1[(r1['listing_id']== \"\") | (r1['id']== \"\") ]\n",
    "check"
   ]
  },
  {
   "cell_type": "code",
   "execution_count": 102,
   "metadata": {},
   "outputs": [],
   "source": [
    "r1 = r1.drop(columns=['comments'])\n",
    "r1.rename(columns = {'id': 'review_id'}, \n",
    "          inplace = True)"
   ]
  },
  {
   "cell_type": "code",
   "execution_count": 103,
   "metadata": {},
   "outputs": [],
   "source": [
    "r2 = r1.drop_duplicates(subset = ['review_id'], keep='first')\n",
    "#r2 = r2.sample(n = 75000)"
   ]
  },
  {
   "cell_type": "code",
   "execution_count": 25,
   "metadata": {},
   "outputs": [],
   "source": [
    "#r2.to_csv(path + 'data/review_cleaned_sample.csv', index = False)"
   ]
  },
  {
   "cell_type": "markdown",
   "metadata": {},
   "source": [
    "## Neighborhood Data"
   ]
  },
  {
   "cell_type": "code",
   "execution_count": 104,
   "metadata": {},
   "outputs": [],
   "source": [
    "def parse_geojson(file_path):\n",
    "    \n",
    "    with open(file_path) as f:\n",
    "        gj = geojson.load(f)\n",
    "    \n",
    "        results = []\n",
    "    \n",
    "    for record in gj[\"features\"]:\n",
    "        coord = np.array(record['geometry']['coordinates'][0][0])\n",
    "        min_coord = list(np.amin(coord,axis=0))\n",
    "        max_coord = list(np.amax(coord,axis=0))\n",
    "        results.append({\n",
    "            \"neighbourhood\" : record[\"properties\"][\"neighbourhood\"]\n",
    "            ,\"neighbourhood_group\": record[\"properties\"][\"neighbourhood_group\"]\n",
    "            ,\"minx\": min_coord[0]\n",
    "            ,\"maxx\": max_coord[0]\n",
    "            ,\"miny\": min_coord[1]\n",
    "            ,\"maxy\": max_coord[1]\n",
    "            ,\"centerx\": (min_coord[0] + max_coord[0])/2\n",
    "            ,\"centery\": (min_coord[1] + max_coord[1])/2\n",
    "           })\n",
    "    \n",
    "    return pd.DataFrame(results)"
   ]
  },
  {
   "cell_type": "code",
   "execution_count": 105,
   "metadata": {},
   "outputs": [],
   "source": [
    "### merge target data with neighborhood data by fuzzy join on neightborhood latitude & longtitude range\n",
    "def match_region_by_latlong(target_df, nbr_df):\n",
    "    \n",
    "    lat = target_df['latitude'].values\n",
    "    long = target_df['longitude'].values\n",
    "    \n",
    "    nbr_latlow = nbr_df['miny'].values\n",
    "    nbr_lathigh = nbr_df['maxy'].values\n",
    "    nbr_longlow = nbr_df['minx'].values\n",
    "    nbr_longhigh = nbr_df['maxx'].values\n",
    "    \n",
    "    i, j = np.where((lat[:, None] >= nbr_latlow) & (lat[:, None] <= nbr_lathigh) &\n",
    "                 (lat[:, None] >= nbr_longlow) & (long[:, None] <= nbr_longhigh))\n",
    "    \n",
    "    merge_df = pd.DataFrame(\n",
    "                np.column_stack([target_df.values[i], nbr_df.values[j]]),\n",
    "                columns = target_df.columns.append(nbr_df.columns)\n",
    "                )\n",
    "    \n",
    "    merge_df['dist_to_center'] = (merge_df['longitude'] - merge_df['centerx'])**2 + (merge_df['latitude'] - merge_df['centerx'])**2\n",
    "    \n",
    "    return merge_df"
   ]
  },
  {
   "cell_type": "code",
   "execution_count": 106,
   "metadata": {},
   "outputs": [],
   "source": [
    "nbr = parse_geojson(path + 'data/neighbourhoods.geojson')"
   ]
  },
  {
   "cell_type": "code",
   "execution_count": 107,
   "metadata": {},
   "outputs": [
    {
     "data": {
      "text/html": [
       "<div>\n",
       "<style scoped>\n",
       "    .dataframe tbody tr th:only-of-type {\n",
       "        vertical-align: middle;\n",
       "    }\n",
       "\n",
       "    .dataframe tbody tr th {\n",
       "        vertical-align: top;\n",
       "    }\n",
       "\n",
       "    .dataframe thead th {\n",
       "        text-align: right;\n",
       "    }\n",
       "</style>\n",
       "<table border=\"1\" class=\"dataframe\">\n",
       "  <thead>\n",
       "    <tr style=\"text-align: right;\">\n",
       "      <th></th>\n",
       "      <th>neighbourhood</th>\n",
       "      <th>neighbourhood_group</th>\n",
       "      <th>minx</th>\n",
       "      <th>maxx</th>\n",
       "      <th>miny</th>\n",
       "      <th>maxy</th>\n",
       "      <th>centerx</th>\n",
       "      <th>centery</th>\n",
       "    </tr>\n",
       "  </thead>\n",
       "  <tbody>\n",
       "    <tr>\n",
       "      <th>0</th>\n",
       "      <td>Bayswater</td>\n",
       "      <td>Queens</td>\n",
       "      <td>-73.773977</td>\n",
       "      <td>-73.766708</td>\n",
       "      <td>40.614878</td>\n",
       "      <td>40.620901</td>\n",
       "      <td>-73.770342</td>\n",
       "      <td>40.617890</td>\n",
       "    </tr>\n",
       "    <tr>\n",
       "      <th>2</th>\n",
       "      <td>City Island</td>\n",
       "      <td>Bronx</td>\n",
       "      <td>-73.793508</td>\n",
       "      <td>-73.779927</td>\n",
       "      <td>40.836338</td>\n",
       "      <td>40.858610</td>\n",
       "      <td>-73.786718</td>\n",
       "      <td>40.847474</td>\n",
       "    </tr>\n",
       "    <tr>\n",
       "      <th>22</th>\n",
       "      <td>Bayswater</td>\n",
       "      <td>Queens</td>\n",
       "      <td>-73.774172</td>\n",
       "      <td>-73.753458</td>\n",
       "      <td>40.596261</td>\n",
       "      <td>40.614255</td>\n",
       "      <td>-73.763815</td>\n",
       "      <td>40.605258</td>\n",
       "    </tr>\n",
       "    <tr>\n",
       "      <th>44</th>\n",
       "      <td>City Island</td>\n",
       "      <td>Bronx</td>\n",
       "      <td>-73.787432</td>\n",
       "      <td>-73.784400</td>\n",
       "      <td>40.858809</td>\n",
       "      <td>40.860477</td>\n",
       "      <td>-73.785916</td>\n",
       "      <td>40.859643</td>\n",
       "    </tr>\n",
       "    <tr>\n",
       "      <th>126</th>\n",
       "      <td>Howard Beach</td>\n",
       "      <td>Queens</td>\n",
       "      <td>-73.830413</td>\n",
       "      <td>-73.829889</td>\n",
       "      <td>40.655128</td>\n",
       "      <td>40.655552</td>\n",
       "      <td>-73.830151</td>\n",
       "      <td>40.655340</td>\n",
       "    </tr>\n",
       "    <tr>\n",
       "      <th>127</th>\n",
       "      <td>Howard Beach</td>\n",
       "      <td>Queens</td>\n",
       "      <td>-73.863171</td>\n",
       "      <td>-73.826430</td>\n",
       "      <td>40.644134</td>\n",
       "      <td>40.674021</td>\n",
       "      <td>-73.844800</td>\n",
       "      <td>40.659078</td>\n",
       "    </tr>\n",
       "  </tbody>\n",
       "</table>\n",
       "</div>"
      ],
      "text/plain": [
       "    neighbourhood neighbourhood_group       minx       maxx       miny  \\\n",
       "0       Bayswater              Queens -73.773977 -73.766708  40.614878   \n",
       "2     City Island               Bronx -73.793508 -73.779927  40.836338   \n",
       "22      Bayswater              Queens -73.774172 -73.753458  40.596261   \n",
       "44    City Island               Bronx -73.787432 -73.784400  40.858809   \n",
       "126  Howard Beach              Queens -73.830413 -73.829889  40.655128   \n",
       "127  Howard Beach              Queens -73.863171 -73.826430  40.644134   \n",
       "\n",
       "          maxy    centerx    centery  \n",
       "0    40.620901 -73.770342  40.617890  \n",
       "2    40.858610 -73.786718  40.847474  \n",
       "22   40.614255 -73.763815  40.605258  \n",
       "44   40.860477 -73.785916  40.859643  \n",
       "126  40.655552 -73.830151  40.655340  \n",
       "127  40.674021 -73.844800  40.659078  "
      ]
     },
     "execution_count": 107,
     "metadata": {},
     "output_type": "execute_result"
    }
   ],
   "source": [
    "## some neighbourhood belongs to more than one neighbourhood_group \n",
    "nbr[nbr['neighbourhood'].isin(['Bayswater','City Island','Howard Beach'])]"
   ]
  },
  {
   "cell_type": "code",
   "execution_count": 108,
   "metadata": {},
   "outputs": [
    {
     "data": {
      "text/plain": [
       "(230, 8)"
      ]
     },
     "execution_count": 108,
     "metadata": {},
     "output_type": "execute_result"
    }
   ],
   "source": [
    "#remove duplicate\n",
    "nbr.drop_duplicates(inplace=True, subset=['neighbourhood'], keep=\"first\") \n",
    "nbr.shape"
   ]
  },
  {
   "cell_type": "code",
   "execution_count": 109,
   "metadata": {},
   "outputs": [],
   "source": [
    "### double check all listing neighborhood included in this neighborhood dataset\n",
    "for item in list(pd.unique(l2[\"neighbourhood\"])):\n",
    "    if item not in list(nbr[\"neighbourhood\"]):\n",
    "        print(item)"
   ]
  },
  {
   "cell_type": "markdown",
   "metadata": {},
   "source": [
    "### Assign NeighborHood to Museum"
   ]
  },
  {
   "cell_type": "code",
   "execution_count": 110,
   "metadata": {},
   "outputs": [
    {
     "data": {
      "text/plain": [
       "(130, 9)"
      ]
     },
     "execution_count": 110,
     "metadata": {},
     "output_type": "execute_result"
    }
   ],
   "source": [
    "m1 = pd.read_csv(path + 'data/MUSEUM_New_York_cleaned.csv')\n",
    "m1.shape"
   ]
  },
  {
   "cell_type": "code",
   "execution_count": 111,
   "metadata": {},
   "outputs": [],
   "source": [
    "m1['longitude'] = -m1['longitude']"
   ]
  },
  {
   "cell_type": "code",
   "execution_count": 112,
   "metadata": {},
   "outputs": [
    {
     "data": {
      "text/plain": [
       "(1436, 18)"
      ]
     },
     "execution_count": 112,
     "metadata": {},
     "output_type": "execute_result"
    }
   ],
   "source": [
    "m2 = match_region_by_latlong(m1, nbr)\n",
    "m2.shape"
   ]
  },
  {
   "cell_type": "code",
   "execution_count": 113,
   "metadata": {},
   "outputs": [
    {
     "data": {
      "text/plain": [
       "11.046153846153846"
      ]
     },
     "execution_count": 113,
     "metadata": {},
     "output_type": "execute_result"
    }
   ],
   "source": [
    "## neighborhoods per Museum\n",
    "m2.shape[0]/m1.shape[0]"
   ]
  },
  {
   "cell_type": "code",
   "execution_count": 114,
   "metadata": {},
   "outputs": [],
   "source": [
    "m2['dist_to_center'] = m2['dist_to_center'].astype('float')\n",
    "m2[\"distance_rank\"] = m2.groupby(\"id\")[\"dist_to_center\"].rank(method = \"first\", ascending=True)\n",
    "m2 = m2[m2[\"distance_rank\"] <= 1]"
   ]
  },
  {
   "cell_type": "code",
   "execution_count": 40,
   "metadata": {},
   "outputs": [],
   "source": [
    "#m2.to_csv(path + 'data/MUSEUM_with_nbr.csv', index = False)"
   ]
  },
  {
   "cell_type": "markdown",
   "metadata": {},
   "source": [
    "### Assign Neighborhood to ArtGallery"
   ]
  },
  {
   "cell_type": "code",
   "execution_count": 115,
   "metadata": {},
   "outputs": [
    {
     "data": {
      "text/plain": [
       "(917, 9)"
      ]
     },
     "execution_count": 115,
     "metadata": {},
     "output_type": "execute_result"
    }
   ],
   "source": [
    "a1 = pd.read_csv(path + 'data/ART_GALLERY_New_York_cleaned.csv')\n",
    "a1.shape"
   ]
  },
  {
   "cell_type": "code",
   "execution_count": 116,
   "metadata": {},
   "outputs": [],
   "source": [
    "a1['longitude'] = -a1['longitude']"
   ]
  },
  {
   "cell_type": "code",
   "execution_count": 117,
   "metadata": {},
   "outputs": [
    {
     "data": {
      "text/plain": [
       "(11708, 18)"
      ]
     },
     "execution_count": 117,
     "metadata": {},
     "output_type": "execute_result"
    }
   ],
   "source": [
    "a2 = match_region_by_latlong(a1, nbr)\n",
    "a2.shape"
   ]
  },
  {
   "cell_type": "code",
   "execution_count": 118,
   "metadata": {},
   "outputs": [
    {
     "data": {
      "text/plain": [
       "12.767720828789532"
      ]
     },
     "execution_count": 118,
     "metadata": {},
     "output_type": "execute_result"
    }
   ],
   "source": [
    "#neighborhood per ArtGallery\n",
    "a2.shape[0]/a1.shape[0]"
   ]
  },
  {
   "cell_type": "code",
   "execution_count": 119,
   "metadata": {},
   "outputs": [
    {
     "data": {
      "text/plain": [
       "(917, 19)"
      ]
     },
     "execution_count": 119,
     "metadata": {},
     "output_type": "execute_result"
    }
   ],
   "source": [
    "a2['dist_to_center'] = a2['dist_to_center'].astype('float')\n",
    "a2[\"distance_rank\"] = a2.groupby(\"id\")[\"dist_to_center\"].rank(method = \"first\", ascending=True)\n",
    "a2 = a2[a2[\"distance_rank\"] <= 1]\n",
    "a2.shape"
   ]
  },
  {
   "cell_type": "code",
   "execution_count": 46,
   "metadata": {},
   "outputs": [],
   "source": [
    "#a2.to_csv(path + 'data/ART_GALLERY_with_nbr.csv', index = False)"
   ]
  },
  {
   "cell_type": "markdown",
   "metadata": {},
   "source": [
    "### Assign Neighborhood to Park"
   ]
  },
  {
   "cell_type": "code",
   "execution_count": 120,
   "metadata": {},
   "outputs": [
    {
     "data": {
      "text/plain": [
       "(3706, 4)"
      ]
     },
     "execution_count": 120,
     "metadata": {},
     "output_type": "execute_result"
    }
   ],
   "source": [
    "p1 = pd.read_csv(path + 'data/Park_New_York_cleaned.csv')\n",
    "p1['longitude'] = -p1['longitude']\n",
    "p1.shape"
   ]
  },
  {
   "cell_type": "code",
   "execution_count": 121,
   "metadata": {},
   "outputs": [
    {
     "data": {
      "text/plain": [
       "(29628, 13)"
      ]
     },
     "execution_count": 121,
     "metadata": {},
     "output_type": "execute_result"
    }
   ],
   "source": [
    "p2 = match_region_by_latlong(p1, nbr)\n",
    "p2.shape"
   ]
  },
  {
   "cell_type": "code",
   "execution_count": 122,
   "metadata": {},
   "outputs": [
    {
     "data": {
      "text/plain": [
       "7.994603345925526"
      ]
     },
     "execution_count": 122,
     "metadata": {},
     "output_type": "execute_result"
    }
   ],
   "source": [
    "#neighborhoods per Park\n",
    "p2.shape[0]/p1.shape[0]"
   ]
  },
  {
   "cell_type": "code",
   "execution_count": 123,
   "metadata": {},
   "outputs": [
    {
     "data": {
      "text/plain": [
       "(3706, 14)"
      ]
     },
     "execution_count": 123,
     "metadata": {},
     "output_type": "execute_result"
    }
   ],
   "source": [
    "p2['dist_to_center'] = p2['dist_to_center'].astype('float')\n",
    "p2[\"distance_rank\"] = p2.groupby(\"id\")[\"dist_to_center\"].rank(method = \"first\", ascending=True)\n",
    "p2 = p2[p2[\"distance_rank\"] <= 1]\n",
    "p2.shape"
   ]
  },
  {
   "cell_type": "code",
   "execution_count": 56,
   "metadata": {},
   "outputs": [],
   "source": [
    "#p2.to_csv(path + 'data/PARK_with_nbr.csv', index = False)"
   ]
  },
  {
   "cell_type": "markdown",
   "metadata": {},
   "source": [
    "### Assign Neighborhood to Crime Data"
   ]
  },
  {
   "cell_type": "code",
   "execution_count": 124,
   "metadata": {},
   "outputs": [
    {
     "data": {
      "text/plain": [
       "(73437, 7)"
      ]
     },
     "execution_count": 124,
     "metadata": {},
     "output_type": "execute_result"
    }
   ],
   "source": [
    "c1 = pd.read_csv(path + 'data/NYPD_Arrest_Data__Year_to_Date_Clean.csv')\n",
    "c1.shape"
   ]
  },
  {
   "cell_type": "code",
   "execution_count": 125,
   "metadata": {},
   "outputs": [
    {
     "data": {
      "text/plain": [
       "(587542, 16)"
      ]
     },
     "execution_count": 125,
     "metadata": {},
     "output_type": "execute_result"
    }
   ],
   "source": [
    "c2 = match_region_by_latlong(c1, nbr)\n",
    "c2.shape"
   ]
  },
  {
   "cell_type": "code",
   "execution_count": 59,
   "metadata": {},
   "outputs": [],
   "source": [
    "#c2.to_csv(path + 'data/Crime_with_nbr_full_records.csv', index = False)"
   ]
  },
  {
   "cell_type": "code",
   "execution_count": 155,
   "metadata": {},
   "outputs": [],
   "source": [
    "##debug### check neighborhood & neighborhoodgroup "
   ]
  },
  {
   "cell_type": "code",
   "execution_count": 126,
   "metadata": {},
   "outputs": [
    {
     "data": {
      "text/plain": [
       "230"
      ]
     },
     "execution_count": 126,
     "metadata": {},
     "output_type": "execute_result"
    }
   ],
   "source": [
    "len(pd.unique(c2['neighbourhood']))"
   ]
  },
  {
   "cell_type": "code",
   "execution_count": 127,
   "metadata": {},
   "outputs": [
    {
     "data": {
      "text/plain": [
       "array(['Queens', 'Manhattan', 'Brooklyn', 'Bronx', 'Staten Island'],\n",
       "      dtype=object)"
      ]
     },
     "execution_count": 127,
     "metadata": {},
     "output_type": "execute_result"
    }
   ],
   "source": [
    "pd.unique(c2['neighbourhood_group'])"
   ]
  },
  {
   "cell_type": "code",
   "execution_count": 128,
   "metadata": {},
   "outputs": [
    {
     "data": {
      "text/plain": [
       "8.000626387243488"
      ]
     },
     "execution_count": 128,
     "metadata": {},
     "output_type": "execute_result"
    }
   ],
   "source": [
    "###neighborhoods per Crime incident\n",
    "c2.shape[0]/c1.shape[0]"
   ]
  },
  {
   "cell_type": "code",
   "execution_count": 129,
   "metadata": {},
   "outputs": [
    {
     "data": {
      "text/plain": [
       "(471612, 17)"
      ]
     },
     "execution_count": 129,
     "metadata": {},
     "output_type": "execute_result"
    }
   ],
   "source": [
    "c2['dist_to_center'] = c2['dist_to_center'].astype('float')\n",
    "c2[\"distance_rank\"] = c2.groupby(\"arrest_key\")[\"dist_to_center\"].rank(method = \"first\", ascending=True)\n",
    "c2 = c2[c2[\"distance_rank\"] <= 8]\n",
    "c2.shape"
   ]
  },
  {
   "cell_type": "code",
   "execution_count": 130,
   "metadata": {},
   "outputs": [
    {
     "data": {
      "text/plain": [
       "169"
      ]
     },
     "execution_count": 130,
     "metadata": {},
     "output_type": "execute_result"
    }
   ],
   "source": [
    "len(pd.unique(c2['neighbourhood']))"
   ]
  },
  {
   "cell_type": "code",
   "execution_count": 131,
   "metadata": {},
   "outputs": [
    {
     "data": {
      "text/plain": [
       "array(['Queens', 'Brooklyn', 'Bronx', 'Staten Island', 'Manhattan'],\n",
       "      dtype=object)"
      ]
     },
     "execution_count": 131,
     "metadata": {},
     "output_type": "execute_result"
    }
   ],
   "source": [
    "pd.unique(c2['neighbourhood_group'])"
   ]
  },
  {
   "cell_type": "code",
   "execution_count": 132,
   "metadata": {},
   "outputs": [],
   "source": [
    "#c2.to_csv(path + 'data/Crime_with_nbr.csv', index = False)\n",
    "# a crime can contribute to 8 cloest neighborhood's crime points\n",
    "\n",
    "c2.to_csv(path + 'data/Crime_with_8nbr.csv', index = False)"
   ]
  },
  {
   "cell_type": "markdown",
   "metadata": {},
   "source": [
    "### Aggregate Crime Level by Neighbourhood"
   ]
  },
  {
   "cell_type": "code",
   "execution_count": 133,
   "metadata": {},
   "outputs": [],
   "source": [
    "c3 = c2[['law_cat_cd','neighbourhood']]"
   ]
  },
  {
   "cell_type": "code",
   "execution_count": 134,
   "metadata": {},
   "outputs": [
    {
     "name": "stderr",
     "output_type": "stream",
     "text": [
      "<ipython-input-134-6d60814d2540>:5: SettingWithCopyWarning: \n",
      "A value is trying to be set on a copy of a slice from a DataFrame.\n",
      "Try using .loc[row_indexer,col_indexer] = value instead\n",
      "\n",
      "See the caveats in the documentation: https://pandas.pydata.org/pandas-docs/stable/user_guide/indexing.html#returning-a-view-versus-a-copy\n",
      "  c3['crime_points'] = np.where(c3['law_cat_cd']== 'F', 0.7,\n"
     ]
    }
   ],
   "source": [
    "### assign crime points:\n",
    "# F = 0.7\n",
    "# M = 0.2\n",
    "# Other = 0.1\n",
    "c3['crime_points'] = np.where(c3['law_cat_cd']== 'F', 0.7, \n",
    "                               np.where(c3['law_cat_cd']== 'M', 0.2, 0.1))"
   ]
  },
  {
   "cell_type": "code",
   "execution_count": 135,
   "metadata": {},
   "outputs": [],
   "source": [
    "# aggregate to neighbourhood level\n",
    "# there are 169 records\n",
    "crime_by_nbr = pd.DataFrame(c3.groupby(by=[\"neighbourhood\"]).sum()).reset_index()"
   ]
  },
  {
   "cell_type": "markdown",
   "metadata": {},
   "source": [
    "### Join Aggregated Neighbourhood Crime Rate with Original Neighbourhood Data"
   ]
  },
  {
   "cell_type": "code",
   "execution_count": 136,
   "metadata": {},
   "outputs": [],
   "source": [
    "nbr2 = nbr.merge(crime_by_nbr[[\"neighbourhood\",\"crime_points\"]], \n",
    "                 left_on = 'neighbourhood', right_on = 'neighbourhood', how = 'left')"
   ]
  },
  {
   "cell_type": "code",
   "execution_count": 137,
   "metadata": {},
   "outputs": [],
   "source": [
    "# there are 169 neighbourhoods with crime points > 0\n",
    "# other 230 - 169 neighbourhoods with crime points  = 0\n",
    "# joining create NAs on these 230 - 169 neighbourhoods, fill NA with 0\n",
    "nbr2['crime_points'] = nbr2['crime_points'].fillna(0)"
   ]
  },
  {
   "cell_type": "markdown",
   "metadata": {},
   "source": [
    "### Visuliaze Distribution of Crime Rate"
   ]
  },
  {
   "cell_type": "code",
   "execution_count": 138,
   "metadata": {},
   "outputs": [
    {
     "data": {
      "text/plain": [
       "(array([120.,  23.,  14.,  22.,   8.,  12.,   7.,   3.,   7.,   2.,   4.,\n",
       "          0.,   2.,   1.,   1.,   0.,   1.,   1.,   1.,   1.]),\n",
       " array([   0.  ,  349.32,  698.64, 1047.96, 1397.28, 1746.6 , 2095.92,\n",
       "        2445.24, 2794.56, 3143.88, 3493.2 , 3842.52, 4191.84, 4541.16,\n",
       "        4890.48, 5239.8 , 5589.12, 5938.44, 6287.76, 6637.08, 6986.4 ]),\n",
       " <BarContainer object of 20 artists>)"
      ]
     },
     "execution_count": 138,
     "metadata": {},
     "output_type": "execute_result"
    },
    {
     "data": {
      "image/png": "[encoded data removed]",
      "text/plain": [
       "<Figure size 432x288 with 1 Axes>"
      ]
     },
     "metadata": {
      "needs_background": "light"
     },
     "output_type": "display_data"
    }
   ],
   "source": [
    "#nbr2['log_crime_points'] = np.log(nbr2['crime_points'] + 1)\n",
    "plt.hist(nbr2['crime_points'], bins = 20)"
   ]
  },
  {
   "cell_type": "code",
   "execution_count": 139,
   "metadata": {},
   "outputs": [
    {
     "data": {
      "text/plain": [
       "0.1       0.00\n",
       "0.2       0.00\n",
       "0.3       7.85\n",
       "0.4      63.80\n",
       "0.5     258.75\n",
       "0.6     631.10\n",
       "0.7    1114.80\n",
       "0.8    1628.88\n",
       "0.9    2490.41\n",
       "Name: crime_points, dtype: float64"
      ]
     },
     "execution_count": 139,
     "metadata": {},
     "output_type": "execute_result"
    }
   ],
   "source": [
    "nbr2['crime_points'].quantile([0.1, 0.2, 0.3, 0.4, 0.5, 0.6, 0.7, 0.8, 0.9])"
   ]
  },
  {
   "cell_type": "markdown",
   "metadata": {},
   "source": [
    "### Assign Crime Level and Visualize"
   ]
  },
  {
   "cell_type": "code",
   "execution_count": 143,
   "metadata": {},
   "outputs": [],
   "source": [
    "def crime_level(x):\n",
    "    if x == 0:\n",
    "        return 'A'\n",
    "    elif x < 65:\n",
    "        return 'B'\n",
    "    elif x < 400:\n",
    "        return 'C'\n",
    "    elif x < 1000:\n",
    "        return 'D'\n",
    "    elif x < 1900:\n",
    "        return 'E'\n",
    "    else:\n",
    "        return 'F'"
   ]
  },
  {
   "cell_type": "code",
   "execution_count": 144,
   "metadata": {},
   "outputs": [],
   "source": [
    "nbr2['crime_level'] = nbr2['crime_points'].apply(crime_level)"
   ]
  },
  {
   "cell_type": "code",
   "execution_count": 145,
   "metadata": {},
   "outputs": [
    {
     "data": {
      "text/plain": [
       "<AxesSubplot:>"
      ]
     },
     "execution_count": 145,
     "metadata": {},
     "output_type": "execute_result"
    },
    {
     "data": {
      "image/png": "[encoded data removed]",
      "text/plain": [
       "<Figure size 432x288 with 1 Axes>"
      ]
     },
     "metadata": {
      "needs_background": "light"
     },
     "output_type": "display_data"
    }
   ],
   "source": [
    "nbr2['crime_level'].hist()"
   ]
  },
  {
   "cell_type": "code",
   "execution_count": 147,
   "metadata": {},
   "outputs": [],
   "source": [
    "nbr2.to_csv(path + \"data/neighbourhoods_add_crime_rate.csv\",index = False)"
   ]
  }
 ],
 "metadata": {
  "kernelspec": {
   "display_name": "Python 3",
   "language": "python",
   "name": "python3"
  },
  "language_info": {
   "codemirror_mode": {
    "name": "ipython",
    "version": 3
   },
   "file_extension": ".py",
   "mimetype": "text/x-python",
   "name": "python",
   "nbconvert_exporter": "python",
   "pygments_lexer": "ipython3",
   "version": "3.8.5"
  }
 },
 "nbformat": 4,
 "nbformat_minor": 4
}
